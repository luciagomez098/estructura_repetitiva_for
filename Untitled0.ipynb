{
  "nbformat": 4,
  "nbformat_minor": 0,
  "metadata": {
    "colab": {
      "provenance": [],
      "authorship_tag": "ABX9TyNzLRrc0O5J9JN5AhrI8DoS",
      "include_colab_link": true
    },
    "kernelspec": {
      "name": "python3",
      "display_name": "Python 3"
    },
    "language_info": {
      "name": "python"
    }
  },
  "cells": [
    {
      "cell_type": "markdown",
      "metadata": {
        "id": "view-in-github",
        "colab_type": "text"
      },
      "source": [
        "<a href=\"https://colab.research.google.com/github/luciagomez098/estructura_repetitiva_for/blob/main/Untitled0.ipynb\" target=\"_parent\"><img src=\"https://colab.research.google.com/assets/colab-badge.svg\" alt=\"Open In Colab\"/></a>"
      ]
    },
    {
      "cell_type": "code",
      "source": [
        "# ejercicio no1\n",
        "\n",
        "numeros = [20, 21, 30, 41, 50, 51, 20]\n",
        "for numero in numeros:\n",
        "      if numero % 10 !=1:\n",
        "        print(numero)"
      ],
      "metadata": {
        "id": "lATQj-3z31TD"
      },
      "execution_count": null,
      "outputs": []
    },
    {
      "cell_type": "code",
      "source": [
        "# ejercicio no2\n",
        "\n",
        "palabra = \"programacion\"\n",
        "\n",
        "for _ in range(1000):\n",
        "  print(palabra)\n"
      ],
      "metadata": {
        "id": "30cgASlO-Opi"
      },
      "execution_count": null,
      "outputs": []
    },
    {
      "cell_type": "code",
      "source": [
        "# ejercicio no3\n",
        "\n",
        "# input\n",
        "\n",
        "lista = [\"E\", \"F\", \"M\", \"A\"]\n",
        "\n",
        "# processing\n",
        "\n",
        "for i in lista:\n",
        "  if i == \"E\":\n",
        "    print(\"Enero\")\n",
        "  if i == \"F\":\n",
        "    print(\"Febrero\")\n",
        "    if i == \"M\":\n",
        "      print(\"Marzo\")\n",
        "  else:\n",
        "        print(\"Abril\")\n"
      ],
      "metadata": {
        "id": "VtDap2L3-oDb"
      },
      "execution_count": null,
      "outputs": []
    },
    {
      "cell_type": "code",
      "source": [
        "# ejerccio no4\n",
        "\n",
        "texto = input(\"ingrese el texto\")\n",
        "\n",
        " 'a': 0\n",
        " 'e': 0\n",
        " 'i': 0\n",
        " 'o': 0\n",
        " 'u': 0\n",
        " 'A': 0\n",
        " 'E': 0\n",
        " 'I': 0\n",
        " 'O': 0\n",
        " 'U': 0\n",
        " for letra in texto:\n",
        "  if letra in vocales:\n",
        "    vocales[letra] += 1\n",
        " for vocal, cout in vocales.itms():\n",
        "  print(f\"{vocal}: {count}\")"
      ],
      "metadata": {
        "id": "rV7XPaknAX4z"
      },
      "execution_count": null,
      "outputs": []
    },
    {
      "cell_type": "code",
      "source": [
        "# ejercicio no5\n",
        "\n",
        "numeros_pares = 0\n",
        "numeros_impares = 0\n",
        "\n",
        "for i in range(20):\n",
        "  num = int(input(\"ingrese un numero entero: \"))\n",
        "if num % 2 == 0:\n",
        "      numeros_pares += 1\n",
        "else:\n",
        "      numeros_impares += 1\n",
        "\n",
        "      print(f\"numeros_pareas: {numeros_pares}\")\n",
        "      print(f\"numeros_impares: {numeros_impares}\")"
      ],
      "metadata": {
        "id": "ar_s3K0xEcXb"
      },
      "execution_count": null,
      "outputs": []
    },
    {
      "cell_type": "code",
      "source": [
        "from sre_constants import RANGE_UNI_IGNORE\n",
        " # ejerccio no6\n",
        "\n",
        "en un diagrama de flujo, la instruccion repetitiva for se presenta generalmente con un rombo o diamante que contiene la palabra \"for\"\n",
        "seguida de la condicion de repeticion. por ejemplo, \"for ¡ to 10\" indicaria que la repeticcion se reaiza mientras la variable ¡ es en el\n",
        "rango de dentro del rombo, se detallaria e bloque de codigo que se repita en cada interaccion"
      ],
      "metadata": {
        "id": "sfHpidMZGN4U"
      },
      "execution_count": null,
      "outputs": []
    },
    {
      "cell_type": "code",
      "source": [
        "from collections import Counter\n",
        "# ejercicio no7\n",
        "\n",
        "count_7 = 0\n",
        "count_9 = 0\n",
        "\n",
        "\n",
        "for num in range(1000, 5001):\n",
        "  if num % 7 == 0:\n",
        "    count_7 += 1\n",
        "  if num % 9 == 0:\n",
        "    count_9 += 1\n",
        "\n",
        "    print(\"cantidad de miltiplos de 7: \", count_7)\n",
        "    print(\"cantidad de multiplos de 9: \", count_9)"
      ],
      "metadata": {
        "id": "hOBc10_wKKFT"
      },
      "execution_count": null,
      "outputs": []
    },
    {
      "cell_type": "code",
      "source": [
        "# ejercicio no8\n",
        "\n",
        "import random\n",
        "\n",
        "#definir la cantidad de datos a alzar\n",
        "n_dados = 3\n",
        "# definir la cantidad de lanazamientos\n",
        "n_lanzamientos = 100\n",
        "\n",
        "resultados ={i: 0 for i in range(1, 7)}\n",
        "\n",
        "for _ in range(n_dados):\n",
        "  cara = random.randint(1, 6)\n",
        "  resultados[cara] += 1\n",
        "\n",
        "  # imprimir histograma por cada cara\n",
        "  print(\"histograma de de resultados\")\n",
        "  for cara, cantidad in resultados.items():\n",
        "    print(f\"cara {cara}: {'*' * cantidad}\")"
      ],
      "metadata": {
        "id": "CVslkYEMLt5o"
      },
      "execution_count": null,
      "outputs": []
    },
    {
      "cell_type": "code",
      "source": [
        "# ejercicio no9\n",
        "\n",
        "  num = int(imput(\"ingresa uun numero para calcular su factorial: \"))\n",
        "factorial = 1\n",
        "if num < 0:\n",
        " print(\"no se puedde calcular el factorial de un numero negatico.\")\n",
        "elif num == 0:\n",
        " print(\"el factorial de 0 es 1\")\n",
        "else:\n",
        "  for i in range(1, num + 1):\n",
        "      factorial *= i\n",
        "      print(f\"el factorial de {num} es {factorial}\")\n"
      ],
      "metadata": {
        "id": "j7MBZA-9QoMR"
      },
      "execution_count": null,
      "outputs": []
    },
    {
      "cell_type": "code",
      "source": [
        "# ejercicio no10\n",
        "\n",
        "for i in range(1, 11):\n",
        "  print(i ** 2, end=\", \" if i < 10 else \"\")"
      ],
      "metadata": {
        "id": "63VM4f8zSovV"
      },
      "execution_count": null,
      "outputs": []
    }
  ]
}